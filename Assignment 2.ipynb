{
 "cells": [
  {
   "cell_type": "markdown",
   "metadata": {},
   "source": [
    "# Q1"
   ]
  },
  {
   "cell_type": "code",
   "execution_count": 14,
   "metadata": {
    "scrolled": true
   },
   "outputs": [
    {
     "name": "stdout",
     "output_type": "stream",
     "text": [
      "4\n",
      "6\n",
      "8\n",
      "0\n",
      "2\n",
      "4\n",
      "6\n",
      "8\n",
      "9\n",
      "3\n",
      "[4, 6, 8, 0, 2, 4, 6, 8]\n"
     ]
    }
   ],
   "source": [
    "l=[]\n",
    "for x in range(10):\n",
    "    a=int(input())\n",
    "    if (a%2)==0:\n",
    "        l.append(a)\n",
    "print(l)"
   ]
  },
  {
   "cell_type": "markdown",
   "metadata": {},
   "source": [
    "# Q2"
   ]
  },
  {
   "cell_type": "raw",
   "metadata": {},
   "source": [
    "List comprehensions is an easy to use and more precise way to create lists.\n",
    "\n",
    "OutputList = [Output_Var for var in InputList if(var satisfies this condition)]\n",
    "\n",
    "This will result in a new list as a result of evaluating the condition in the\n",
    "context of the for and if expreesions which follow it.\n",
    "\n",
    "The above code for creating list can be made more easily using list comprehensions as shown below:"
   ]
  },
  {
   "cell_type": "code",
   "execution_count": 18,
   "metadata": {},
   "outputs": [
    {
     "name": "stdout",
     "output_type": "stream",
     "text": [
      "1\n",
      "2\n",
      "3\n",
      "4\n",
      "5\n",
      "6\n",
      "7\n",
      "8\n",
      "9\n",
      "0\n",
      "[2, 4, 6, 8, 0]\n"
     ]
    }
   ],
   "source": [
    "InputList = []\n",
    "for x in range(10):\n",
    "    a=int(input())\n",
    "    InputList.append(a) \n",
    "OutputList = [a for a in InputList if a % 2 == 0] \n",
    "print(OutputList)"
   ]
  },
  {
   "cell_type": "markdown",
   "metadata": {},
   "source": [
    "# Q3"
   ]
  },
  {
   "cell_type": "code",
   "execution_count": 25,
   "metadata": {},
   "outputs": [
    {
     "name": "stdout",
     "output_type": "stream",
     "text": [
      "Input:\n",
      "8\n",
      "Output:\n",
      " {1: 1, 2: 4, 3: 9, 4: 16, 5: 25, 6: 36, 7: 49, 8: 64}"
     ]
    }
   ],
   "source": [
    "n=int(input(\"Input:\\n\"))\n",
    "d={}\n",
    "for i in range(n):\n",
    "  d[i+1]=(i+1)**2\n",
    "print(\"Output:\\n\",d,end=\"\")"
   ]
  },
  {
   "cell_type": "markdown",
   "metadata": {},
   "source": [
    "# Q4"
   ]
  },
  {
   "cell_type": "code",
   "execution_count": 34,
   "metadata": {},
   "outputs": [
    {
     "name": "stdout",
     "output_type": "stream",
     "text": [
      "4\n",
      "UP 5\n",
      "DOWN 3\n",
      "LEFT 3\n",
      "RIGHT 2\n",
      "2\n"
     ]
    }
   ],
   "source": [
    "import math\n",
    "x, y = 0, 0\n",
    "n=int(input())\n",
    "for A in range(n):\n",
    "    step = input()\n",
    "    step = step.split(\" \")\n",
    "    if step[0] == \"UP\":\n",
    "        y = y + int(step[1])\n",
    "    elif step[0] == \"DOWN\":\n",
    "        y = y - int(step[1])\n",
    "    elif step[0] == \"LEFT\":\n",
    "        x = x - int(step[1])\n",
    "    elif step[0] == \"RIGHT\":\n",
    "        x = x + int(step[1])\n",
    "d=int(math.sqrt(x**2+y**2))\n",
    "print(d)"
   ]
  }
 ],
 "metadata": {
  "kernelspec": {
   "display_name": "Python 3",
   "language": "python",
   "name": "python3"
  },
  "language_info": {
   "codemirror_mode": {
    "name": "ipython",
    "version": 3
   },
   "file_extension": ".py",
   "mimetype": "text/x-python",
   "name": "python",
   "nbconvert_exporter": "python",
   "pygments_lexer": "ipython3",
   "version": "3.8.3"
  }
 },
 "nbformat": 4,
 "nbformat_minor": 4
}
